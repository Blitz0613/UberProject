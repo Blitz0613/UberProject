{
 "cells": [
  {
   "cell_type": "code",
   "execution_count": 5,
   "metadata": {},
   "outputs": [],
   "source": [
    "import matplotlib as mpl\n",
    "import numpy as np\n",
    "import matplotlib.pyplot as plt\n",
    "from sklearn import datasets, linear_model\n",
    "from sklearn.metrics import mean_squared_error, r2_score\n",
    "import pandas as pd\n",
    "import csv\n",
    "from numpy import genfromtxt\n",
    "from sklearn.preprocessing import MinMaxScaler\n",
    "from matplotlib.ticker import PercentFormatter\n"
   ]
  },
  {
   "cell_type": "markdown",
   "metadata": {},
   "source": [
    "# Part A"
   ]
  },
  {
   "cell_type": "code",
   "execution_count": 6,
   "metadata": {},
   "outputs": [],
   "source": [
    "# Read the data"
   ]
  },
  {
   "cell_type": "code",
   "execution_count": 7,
   "metadata": {},
   "outputs": [],
   "source": [
    "with open('Product Data Set.csv') as csvfile:\n",
    "    data = list(csv.reader(csvfile))"
   ]
  },
  {
   "cell_type": "code",
   "execution_count": 8,
   "metadata": {},
   "outputs": [
    {
     "data": {
      "text/plain": [
       "12357"
      ]
     },
     "execution_count": 8,
     "metadata": {},
     "output_type": "execute_result"
    }
   ],
   "source": [
    "# Store and feature name and remove from data set\n",
    "feature=data.pop(0)\n",
    "\n",
    "num_rawdata=len(data)\n",
    "num_rawdata"
   ]
  },
  {
   "cell_type": "code",
   "execution_count": 9,
   "metadata": {},
   "outputs": [],
   "source": [
    "# Clean the data where the signup-time is NA"
   ]
  },
  {
   "cell_type": "code",
   "execution_count": 10,
   "metadata": {},
   "outputs": [],
   "source": [
    "data_cleaned=[]\n",
    "\n",
    "for item in data:\n",
    "    \n",
    "    if item[4]!='NA':\n",
    "    \n",
    "        data_cleaned.append(item)\n",
    "\n",
    "len_data_cleaned= len(data_cleaned)\n",
    "    "
   ]
  },
  {
   "cell_type": "code",
   "execution_count": 11,
   "metadata": {},
   "outputs": [
    {
     "data": {
      "text/plain": [
       "11194"
      ]
     },
     "execution_count": 11,
     "metadata": {},
     "output_type": "execute_result"
    }
   ],
   "source": [
    "len(data_cleaned)"
   ]
  },
  {
   "cell_type": "code",
   "execution_count": 12,
   "metadata": {},
   "outputs": [],
   "source": [
    "# We convert all timestamp and date into UNIX timestamp"
   ]
  },
  {
   "cell_type": "code",
   "execution_count": 13,
   "metadata": {},
   "outputs": [],
   "source": [
    "import time\n",
    "\n",
    "def convert_UNIXformat (sample):     #define the function of conversion into UNIX time \n",
    "    \n",
    "    sample = sample.replace('T', ' ')  # Remove T and Z chars\n",
    "    sample = sample.replace('Z', '')\n",
    "\n",
    "    timeArray = time.strptime(sample, \"%Y-%m-%d %H:%M:%S\")\n",
    "    timeStamp = int(time.mktime(timeArray))\n",
    "    \n",
    "    return timeStamp\n",
    "\n",
    "\n",
    "for item in data_cleaned:\n",
    "\n",
    "    item[4]=convert_UNIXformat(item[4])  #convert sign-up timestamp\n",
    "    \n",
    "    if item[5]!='NA':\n",
    "        \n",
    "        item[5]=convert_UNIXformat(item[5]) #convert bgc date, if NA, leave it as NA \n",
    "        \n",
    "    if item[6]!='NA':\n",
    "        \n",
    "        item[6]=convert_UNIXformat(item[6]) #convert vehicle added date, if NA, leave it as NA \n",
    "        \n",
    "    if item[10]!='NA':\n",
    "        \n",
    "        item[10]=convert_UNIXformat(item[10]) #convert first complete trip. if NA, leave it as NA\n",
    "       \n",
    "\n"
   ]
  },
  {
   "cell_type": "markdown",
   "metadata": {},
   "source": [
    "However, for the 'NA' in 'first_complete_timestamp', I first assume it means driver hasn't even started his first drive."
   ]
  },
  {
   "cell_type": "code",
   "execution_count": 14,
   "metadata": {},
   "outputs": [],
   "source": [
    "# Calculate the fraction of the driver signups took a trip within 30 days of signing up"
   ]
  },
  {
   "cell_type": "code",
   "execution_count": 15,
   "metadata": {},
   "outputs": [],
   "source": [
    "# Convert to a data array\n",
    "\n",
    "arr_data=np.array(data_cleaned)\n",
    "\n",
    "\n",
    "# Calculate the time difference between complete-time and sign-up time\n",
    "\n",
    "time_diff=[]\n",
    "\n",
    "threshold=2592000 # 30 days equivalent to 2592000 seconds\n",
    "\n",
    "for i in range(len(arr_data)):\n",
    "    \n",
    "    if arr_data[i,10]=='NA':\n",
    "        \n",
    "        time_diff.append(2600000)  # NA means longer than 30 days in my assumption \n",
    "        \n",
    "    else:\n",
    "        \n",
    "        time_diff.append(int(arr_data[i,10])-int(arr_data[i,4]))\n",
    "        \n",
    "        \n",
    "time_diff_days=[x / 86400 for x in time_diff]  # convert to the time difference in days\n",
    "\n"
   ]
  },
  {
   "cell_type": "code",
   "execution_count": 16,
   "metadata": {},
   "outputs": [
    {
     "data": {
      "image/png": "[encoded data removed]",
      "text/plain": [
       "<Figure size 576x576 with 1 Axes>"
      ]
     },
     "metadata": {},
     "output_type": "display_data"
    }
   ],
   "source": [
    "#Plot the histogram\n",
    "\n",
    "plt.figure(1,figsize=(8,8))\n",
    "plt.hist(time_diff_days, bins=31)\n",
    "\n",
    "plt.xlabel('Days',fontsize=16)\n",
    "plt.ylabel('Counts',fontsize=16)\n",
    "plt.title('Histogram of time interval assuming \"NA\" as incomplete',fontsize=16)\n",
    "plt.grid()\n",
    "plt.show()\n"
   ]
  },
  {
   "cell_type": "code",
   "execution_count": 17,
   "metadata": {},
   "outputs": [],
   "source": [
    "#Calculate the fraction of drivers who take first trip within 30 days of signing up "
   ]
  },
  {
   "cell_type": "code",
   "execution_count": 18,
   "metadata": {},
   "outputs": [
    {
     "name": "stdout",
     "output_type": "stream",
     "text": [
      "faction is 0.5468\n"
     ]
    }
   ],
   "source": [
    "count=0\n",
    "\n",
    "for i in time_diff_days:\n",
    "    \n",
    "    if i<=30:\n",
    "        \n",
    "        count+=1\n",
    "        \n",
    "frac=count/len(time_diff_days)\n",
    "\n",
    "print(\"faction is %.4f\" %frac)"
   ]
  },
  {
   "cell_type": "markdown",
   "metadata": {},
   "source": [
    "Based on the caculation above, the fraction is only 54.68%. "
   ]
  },
  {
   "cell_type": "markdown",
   "metadata": {},
   "source": [
    "At this point, we change our assumption that, we totally ignore the data with 'NA' in their 'first_complete_timestamp'."
   ]
  },
  {
   "cell_type": "code",
   "execution_count": 19,
   "metadata": {},
   "outputs": [],
   "source": [
    "# Ignore the data where the first_complete_timestampis NA\n",
    "\n",
    "time_diff2=[]\n",
    "\n",
    "threshold=2592000 # 30 days equivalent to 2592000 seconds\n",
    "\n",
    "for i in range(len(arr_data)):\n",
    "    \n",
    "    if arr_data[i,10]!='NA':\n",
    "        \n",
    "        time_diff2.append(int(arr_data[i,10])-int(arr_data[i,4]))\n",
    "        \n",
    "        \n",
    "time_diff_days2=[x / 86400 for x in time_diff2]  # convert to the time difference in days\n",
    "\n"
   ]
  },
  {
   "cell_type": "code",
   "execution_count": 20,
   "metadata": {},
   "outputs": [
    {
     "data": {
      "image/png": "[encoded data removed]",
      "text/plain": [
       "<Figure size 576x576 with 1 Axes>"
      ]
     },
     "metadata": {},
     "output_type": "display_data"
    }
   ],
   "source": [
    "#Plot the histogram\n",
    "\n",
    "plt.figure(1,figsize=(8,8))\n",
    "plt.hist(time_diff_days2, bins=31)\n",
    "\n",
    "plt.xlabel('Days',fontsize=16)\n",
    "plt.ylabel('Counts',fontsize=16)\n",
    "plt.title('Histogram of time interval ignoring \"NA\" in first-completion time',fontsize=16)\n",
    "plt.grid()\n",
    "plt.show()\n"
   ]
  },
  {
   "cell_type": "code",
   "execution_count": 21,
   "metadata": {
    "scrolled": true
   },
   "outputs": [
    {
     "name": "stdout",
     "output_type": "stream",
     "text": [
      "faction is 0.9954\n"
     ]
    }
   ],
   "source": [
    "count=0\n",
    "\n",
    "for i in time_diff_days2:\n",
    "    \n",
    "    if i<=30:\n",
    "        \n",
    "        count+=1\n",
    "        \n",
    "frac=count/len(time_diff_days2)\n",
    "\n",
    "print(\"faction is %.4f\" %frac)"
   ]
  },
  {
   "cell_type": "markdown",
   "metadata": {},
   "source": [
    "Here, after ignoring the 'NA' in their 'first_complete_timestamp', the data set has been shortned too much and the fraction 99.54% is abnormally high. Compared with the previous fraction 54.68%, we should still consider 'NA' as not even started instead of ignoring it."
   ]
  },
  {
   "cell_type": "markdown",
   "metadata": {},
   "source": [
    "# Part B"
   ]
  },
  {
   "cell_type": "markdown",
   "metadata": {},
   "source": [
    "To build a predictive model, first I need to slice the datasets into inputs and outputs. Also, I need to continue clean our data and transfer categorical feature of our data into numerical feature. "
   ]
  },
  {
   "cell_type": "code",
   "execution_count": 22,
   "metadata": {},
   "outputs": [],
   "source": [
    "# Remove id since it is random and irelevant with our the prediction output "
   ]
  },
  {
   "cell_type": "code",
   "execution_count": 23,
   "metadata": {},
   "outputs": [],
   "source": [
    "arr_data1=np.delete(arr_data,0,1)"
   ]
  },
  {
   "cell_type": "code",
   "execution_count": 24,
   "metadata": {},
   "outputs": [],
   "source": [
    "# Store the different categories of each attributes"
   ]
  },
  {
   "cell_type": "code",
   "execution_count": 25,
   "metadata": {},
   "outputs": [],
   "source": [
    "city_list=[]\n",
    "\n",
    "signup_os_list=[]\n",
    "\n",
    "signup_channel_list=[]\n",
    "\n",
    "vehicle_make_list=[]\n",
    "\n",
    "vehicle_model_list=[]\n",
    "\n",
    "vehicle_year_list=[]\n",
    "\n",
    "for item in arr_data1:\n",
    "    \n",
    "    if item[0] not in city_list:\n",
    "        \n",
    "        city_list.append(item[0])\n",
    "        \n",
    "    if item[1] not in signup_os_list:\n",
    "        \n",
    "        signup_os_list.append(item[1])   \n",
    "        \n",
    "    if item[2] not in signup_channel_list:\n",
    "        \n",
    "        signup_channel_list.append(item[2])   \n",
    "        \n",
    "    if item[6] not in vehicle_make_list:\n",
    "        \n",
    "        vehicle_make_list.append(item[6])\n",
    "        \n",
    "    if item[7] not in vehicle_model_list:\n",
    "        \n",
    "        vehicle_model_list.append(item[7])    \n",
    "        \n",
    "    if item[8] not in vehicle_year_list:\n",
    "        \n",
    "        vehicle_year_list.append(item[8])         "
   ]
  },
  {
   "cell_type": "code",
   "execution_count": 26,
   "metadata": {},
   "outputs": [],
   "source": [
    "# Transfer city name into numerical "
   ]
  },
  {
   "cell_type": "code",
   "execution_count": 27,
   "metadata": {},
   "outputs": [
    {
     "data": {
      "text/plain": [
       "['Strark', 'Berton', 'Wrouver']"
      ]
     },
     "execution_count": 27,
     "metadata": {},
     "output_type": "execute_result"
    }
   ],
   "source": [
    "city_list"
   ]
  },
  {
   "cell_type": "markdown",
   "metadata": {},
   "source": [
    "We transfer city location into numeric representation, 'Strark' as 1 , 'Berton' as 2 , 'Wrouver'as 3 "
   ]
  },
  {
   "cell_type": "code",
   "execution_count": 28,
   "metadata": {},
   "outputs": [],
   "source": [
    "for item in arr_data1:\n",
    "    \n",
    "    idx=city_list.index(item[0])+1\n",
    "    \n",
    "    \n",
    "    item[0]=idx    "
   ]
  },
  {
   "cell_type": "code",
   "execution_count": 29,
   "metadata": {},
   "outputs": [],
   "source": [
    "# Analysis of singup_os"
   ]
  },
  {
   "cell_type": "code",
   "execution_count": 30,
   "metadata": {},
   "outputs": [],
   "source": [
    "signup_os=list(arr_data1[:,1])"
   ]
  },
  {
   "cell_type": "code",
   "execution_count": 31,
   "metadata": {},
   "outputs": [
    {
     "name": "stdout",
     "output_type": "stream",
     "text": [
      "The fraction of NA in signup os is 0.4360\n"
     ]
    },
    {
     "data": {
      "text/plain": [
       "['NA', 'ios web', 'other', 'android web', 'windows', 'mac']"
      ]
     },
     "execution_count": 31,
     "metadata": {},
     "output_type": "execute_result"
    }
   ],
   "source": [
    "NA_count=signup_os.count('NA')\n",
    "\n",
    "NA_frac=NA_count/len(signup_os)\n",
    "\n",
    "\n",
    "print('The fraction of NA in signup os is %.4f'%NA_frac )\n",
    "signup_os_list"
   ]
  },
  {
   "cell_type": "markdown",
   "metadata": {},
   "source": [
    "Nearly 43.6% of signup os are 'NA', and 'NA' here indiicates unknown because we have 'other' genre. Too many 'NA' make this feature less valuable. So, I will remove this feature from feature set for prediction "
   ]
  },
  {
   "cell_type": "code",
   "execution_count": 32,
   "metadata": {},
   "outputs": [],
   "source": [
    "arr_data1=np.delete(arr_data1,1,1)"
   ]
  },
  {
   "cell_type": "code",
   "execution_count": 33,
   "metadata": {},
   "outputs": [],
   "source": [
    "# Analysis of singup_channel"
   ]
  },
  {
   "cell_type": "code",
   "execution_count": 34,
   "metadata": {},
   "outputs": [
    {
     "name": "stdout",
     "output_type": "stream",
     "text": [
      "The fraction of NA in signup channel is 0.0992\n"
     ]
    },
    {
     "data": {
      "text/plain": [
       "['R2D', 'Dost', 'Referral', 'NA', 'Organic', 'Paid']"
      ]
     },
     "execution_count": 34,
     "metadata": {},
     "output_type": "execute_result"
    }
   ],
   "source": [
    "signup_channel=list(arr_data1[:,1])\n",
    "\n",
    "NA_count=signup_channel.count('NA')\n",
    "\n",
    "NA_frac=NA_count/len(signup_channel)\n",
    "\n",
    "\n",
    "print('The fraction of NA in signup channel is %.4f'%NA_frac )\n",
    "signup_channel_list"
   ]
  },
  {
   "cell_type": "markdown",
   "metadata": {},
   "source": [
    "The 'NA' fraction in signup_channel is only 9.92%, I will remove those records, if 'NA' is in their signup channel feature.\n",
    "Also, I transfer other category into numeric  representation, 'R2D' as 1 ,'Dost' as 2 , 'Referral'as 3 and so on"
   ]
  },
  {
   "cell_type": "code",
   "execution_count": 35,
   "metadata": {},
   "outputs": [],
   "source": [
    "#Remove 'NA' in the signup_channel_list\n",
    "\n",
    "signup_channel_list.remove('NA') \n",
    "\n",
    "\n",
    "\n",
    "arr_data2=[]\n",
    "\n",
    "for item in arr_data1:\n",
    "    \n",
    "    if item[1]!='NA':\n",
    "        \n",
    "        idx=signup_channel_list.index(item[1])+1  # tansfer into numerical\n",
    "        \n",
    "        item[1]=idx \n",
    "        \n",
    "        arr_data2.append(item)\n",
    "        \n",
    "    \n",
    "arr_data2=np.array(arr_data2)\n",
    "        "
   ]
  },
  {
   "cell_type": "code",
   "execution_count": 36,
   "metadata": {},
   "outputs": [],
   "source": [
    "# Anlysis of signup_timestamp"
   ]
  },
  {
   "cell_type": "markdown",
   "metadata": {},
   "source": [
    "The feature signup_timestamp itself is not very useful, so we need to use it as a start time point and let other time features substract it. Eventually, we will use time interval to replace timestamp and delete the signup_timestamp feature at last."
   ]
  },
  {
   "cell_type": "code",
   "execution_count": 37,
   "metadata": {},
   "outputs": [],
   "source": [
    "#Analysis of BGC date "
   ]
  },
  {
   "cell_type": "code",
   "execution_count": 38,
   "metadata": {},
   "outputs": [
    {
     "name": "stdout",
     "output_type": "stream",
     "text": [
      "The fraction of NA in bgc date is 0.3641\n"
     ]
    }
   ],
   "source": [
    "bgc_date=list(arr_data2[:,3])\n",
    "\n",
    "NA_count_bgc=bgc_date.count('NA')\n",
    "\n",
    "complete_date=list(arr_data2[:,8])\n",
    "\n",
    "NA_count_complete=complete_date.count('NA')\n",
    "\n",
    "\n",
    "NA_frac=NA_count_bgc/len(bgc_date)\n",
    "\n",
    "\n",
    "print('The fraction of NA in bgc date is %.4f'%NA_frac )"
   ]
  },
  {
   "cell_type": "code",
   "execution_count": 39,
   "metadata": {},
   "outputs": [
    {
     "data": {
      "image/png": "[encoded data removed]",
      "text/plain": [
       "<Figure size 432x288 with 1 Axes>"
      ]
     },
     "metadata": {},
     "output_type": "display_data"
    }
   ],
   "source": [
    "counter=0\n",
    "\n",
    "for item in arr_data2:\n",
    "    \n",
    "    if item[3]=='NA' and item[8]=='NA':\n",
    "        \n",
    "        counter+=1\n",
    "        \n",
    "\n",
    "frac_bgc=counter/NA_count_bgc\n",
    "\n",
    "frac_complete=counter/NA_count_complete\n",
    "        \n",
    "        \n",
    "        \n",
    "#print ('The fraction of both NA in first-completion_timestamp and bgc_date over NA in bgc_date  is %.4f' %float(counter/NA_count))        \n",
    "    \n",
    "Features = ['\"NA\" in bgc_timestamp', '\"NA\" in first-completion_timestamp']\n",
    "bronzes = np.array([frac_bgc, frac_complete])\n",
    "silvers = np.array([1-frac_bgc, 1-frac_complete])\n",
    "ind = [x for x, _ in enumerate(Features)]\n",
    "\n",
    "plt.bar(ind, silvers, width=0.6, label='fraction of the rest', color='silver', bottom=bronzes)\n",
    "plt.bar(ind, bronzes, width=0.6, label='fraction of both \"NA\"', color='#CD853F')\n",
    "\n",
    "plt.xticks(ind, Features)\n",
    "plt.ylabel(\"Fraction\")\n",
    "plt.xlabel(\"Features\")\n",
    "plt.yticks(np.arange(0, 1.05, 0.05))\n",
    "plt.legend(loc=\"upper right\")\n",
    "plt.title('Bar plot of fraction of both \"NA\" in \"NA\" of bgc_timestamp and \"NA\" of first-completion_timestamp' )\n",
    "\n",
    "plt.show()       \n",
    "    \n",
    "\n",
    "\n"
   ]
  },
  {
   "cell_type": "markdown",
   "metadata": {},
   "source": [
    "As we see, the fraction of NA in bgc date is very high and I can't remove the feature as I did for signup_os, because the 48.9% of both 'NA' first-completion_timestamp and bgc_date over 'NA' in bgc_data also may indicates the driver did not want to do the background check, consequently, the driver did not initiate her/his first trip either. \n",
    "\n",
    "Alternatively, considering the common sense, company usually do not allow drivers to start her/his first trip without the background. Then I will use average time interval betweem signup time and bgc time to replace those records have \"NA\" in bgc time but not \"NA\" in first completion time. For the records, which have both \"NA\" in bgc time and first completion time, I will give a very large value (>>30 days) instead."
   ]
  },
  {
   "cell_type": "code",
   "execution_count": 40,
   "metadata": {},
   "outputs": [],
   "source": [
    "\n",
    "sums=0\n",
    "\n",
    "for item in arr_data2:\n",
    "    \n",
    "    if item[3]=='NA':\n",
    "        \n",
    "        item[3]=0\n",
    "        \n",
    "    else:\n",
    "        \n",
    "        item[3]=np.float(np.float(item[3])-np.float(item[2]))/3600  #convert to hours\n",
    "        \n",
    "\n",
    "    sums=sums+float(item[3])\n",
    "\n",
    "avg=(sums)/(len(arr_data2)-NA_count_bgc)    \n",
    "\n",
    "\n",
    "\n",
    "for item in arr_data2:\n",
    "    \n",
    "    if item[3]=='0' and item[8]=='NA':\n",
    "        \n",
    "        item[3]= 1000                # large number for both \"NA\"\n",
    "        \n",
    "    if item[3]=='0' and item[8]!='NA': \n",
    "        \n",
    "        item[3]=avg                # use average to replace\n",
    "\n",
    "\n",
    "\n",
    "\n",
    "    "
   ]
  },
  {
   "cell_type": "code",
   "execution_count": 41,
   "metadata": {},
   "outputs": [],
   "source": [
    "# Analysis of vehicle added_time"
   ]
  },
  {
   "cell_type": "code",
   "execution_count": 42,
   "metadata": {},
   "outputs": [
    {
     "data": {
      "text/plain": [
       "997"
      ]
     },
     "execution_count": 42,
     "metadata": {},
     "output_type": "execute_result"
    }
   ],
   "source": [
    "vehicle_addedtime=list(arr_data2[:,4])\n",
    "\n",
    "vehicle_addedtime.count('NA')"
   ]
  },
  {
   "cell_type": "markdown",
   "metadata": {},
   "source": [
    "Similarly to the bgc_added time, we have only 997 \"NA\" in vehicle added time, therefore, we will use average time interval from signup time to replace those \"NA\""
   ]
  },
  {
   "cell_type": "code",
   "execution_count": 43,
   "metadata": {},
   "outputs": [
    {
     "data": {
      "text/plain": [
       "7.656593485198731"
      ]
     },
     "execution_count": 43,
     "metadata": {},
     "output_type": "execute_result"
    }
   ],
   "source": [
    "sums=0\n",
    "\n",
    "for item in arr_data2:\n",
    "    \n",
    "    if item[4]=='NA':\n",
    "        \n",
    "        item[4]=0      \n",
    "    else:\n",
    "        \n",
    "        item[4]=np.float(np.float(item[4])-np.float(item[2]))/3600  #convert to hours\n",
    "        \n",
    "\n",
    "    sums=sums+np.float(item[4])\n",
    "        \n",
    "avg=(sums)/(len(arr_data2)-vehicle_addedtime.count('NA'))      \n",
    "\n",
    "avg"
   ]
  },
  {
   "cell_type": "code",
   "execution_count": 44,
   "metadata": {},
   "outputs": [],
   "source": [
    "# Fill up the NA by the average time interval"
   ]
  },
  {
   "cell_type": "code",
   "execution_count": 45,
   "metadata": {},
   "outputs": [],
   "source": [
    "for item in arr_data2:\n",
    "    \n",
    "    if item[4]=='0':\n",
    "        \n",
    "        item[4]= avg"
   ]
  },
  {
   "cell_type": "code",
   "execution_count": 46,
   "metadata": {},
   "outputs": [],
   "source": [
    "#  The vehicle make and vehicle model analysis"
   ]
  },
  {
   "cell_type": "code",
   "execution_count": 47,
   "metadata": {},
   "outputs": [
    {
     "name": "stdout",
     "output_type": "stream",
     "text": [
      "The number of \"NA\" in vehicle make is 520\n",
      "The number of types of vehicle make is 48\n",
      "The number of \"NA\" in vehicle model is 0\n",
      "The number of types of vehicle model is 473\n"
     ]
    }
   ],
   "source": [
    "NA_count_make=list(arr_data2[:,5]).count('NA')\n",
    "NA_count_model=list(arr_data2[:,6]).count('NA')\n",
    "\n",
    "print('The number of \"NA\" in vehicle make is %s'% NA_count_make)\n",
    "print('The number of types of vehicle make is %s'% len(vehicle_make_list) )\n",
    "print('The number of \"NA\" in vehicle model is %s'% NA_count_model )\n",
    "print('The number of types of vehicle model is %s'% len(vehicle_model_list) )"
   ]
  },
  {
   "cell_type": "markdown",
   "metadata": {},
   "source": [
    "Since the \"NA\" in vehicle model is 0 but types are 473, therefore, we use types of vehicle makes instead. For those \"NA\", we will use types of model to replace."
   ]
  },
  {
   "cell_type": "code",
   "execution_count": 48,
   "metadata": {},
   "outputs": [],
   "source": [
    "\n",
    "new_vehicle_make_list=[]\n",
    "\n",
    "\n",
    "for item in arr_data2:\n",
    "    \n",
    "    if item[5]=='NA':\n",
    "        \n",
    "        item[5]=item[6]\n",
    "        \n",
    "    if item[5] not in new_vehicle_make_list:\n",
    "        \n",
    "        new_vehicle_make_list.append(item[5])\n",
    "        \n",
    "    idx=new_vehicle_make_list.index(item[5])+1  # tansfer into numerical\n",
    "        \n",
    "    item[5]=idx   "
   ]
  },
  {
   "cell_type": "code",
   "execution_count": 49,
   "metadata": {},
   "outputs": [],
   "source": [
    "# vehicle year transfer "
   ]
  },
  {
   "cell_type": "markdown",
   "metadata": {},
   "source": [
    "To not make the variables too large and model too complex, for vehicle year, we will decrease the whole values by substracting a constant (1992)"
   ]
  },
  {
   "cell_type": "code",
   "execution_count": 50,
   "metadata": {},
   "outputs": [],
   "source": [
    "for item in arr_data2:\n",
    "    \n",
    "    item[7]=int(item[7])-1992"
   ]
  },
  {
   "cell_type": "code",
   "execution_count": 51,
   "metadata": {},
   "outputs": [
    {
     "data": {
      "text/plain": [
       "array([['1', '1', '1499398937', ..., 'CC', '20', 'NA'],\n",
       "       ['2', '2', '1499128867', ..., '4Runner', '11', '1500794810'],\n",
       "       ['2', '1', '1499752529', ..., 'Elantra', '23', 'NA'],\n",
       "       ...,\n",
       "       ['1', '3', '1499653242', ..., 'Impala', '24', '1499909688'],\n",
       "       ['1', '1', '1500289288', ..., 'RAV4', '23', '1501651662'],\n",
       "       ['1', '4', '1499490408', ..., 'Elantra', '25', '1499769404']],\n",
       "      dtype='<U36')"
      ]
     },
     "execution_count": 51,
     "metadata": {},
     "output_type": "execute_result"
    }
   ],
   "source": [
    "arr_data2"
   ]
  },
  {
   "cell_type": "code",
   "execution_count": 52,
   "metadata": {},
   "outputs": [],
   "source": [
    "# Transfer the completion time into binary"
   ]
  },
  {
   "cell_type": "markdown",
   "metadata": {},
   "source": [
    "Just like what I did in part A, since it is prediciton problem for binary classfication. Therefore, For those time are larger than 30 days (includng \"NA\") it will be labeled as '1' and for the rest, it is in '0'"
   ]
  },
  {
   "cell_type": "code",
   "execution_count": 53,
   "metadata": {},
   "outputs": [],
   "source": [
    "# Calculate the time difference between complete-time and sign-up time\n",
    "\n",
    "\n",
    "threshold=2592000 # 30 days equivalent to 2592000 seconds\n",
    "\n",
    "for i in range(len(arr_data2)):\n",
    "    \n",
    "    if arr_data2[i,8]=='NA':\n",
    "        \n",
    "        arr_data2[i,8]=1\n",
    "        \n",
    "    else:\n",
    "        \n",
    "        if int(arr_data2[i,8])-int(arr_data2[i,2])<=threshold:\n",
    "            \n",
    "            arr_data2[i,8]=0\n",
    "            \n",
    "        else:\n",
    "            \n",
    "            arr_data2[i,8]=1        "
   ]
  },
  {
   "cell_type": "code",
   "execution_count": 54,
   "metadata": {},
   "outputs": [],
   "source": [
    "# Remove signup_time and vehicle_model"
   ]
  },
  {
   "cell_type": "code",
   "execution_count": 55,
   "metadata": {},
   "outputs": [],
   "source": [
    "arr_data3=np.delete(arr_data2,2,1)"
   ]
  },
  {
   "cell_type": "code",
   "execution_count": 56,
   "metadata": {},
   "outputs": [],
   "source": [
    "Final_data=np.delete(arr_data3,5,1)"
   ]
  },
  {
   "cell_type": "code",
   "execution_count": 57,
   "metadata": {},
   "outputs": [],
   "source": [
    "# We shuffle the data set by rows"
   ]
  },
  {
   "cell_type": "code",
   "execution_count": 58,
   "metadata": {},
   "outputs": [],
   "source": [
    "np.random.shuffle(Final_data)\n"
   ]
  },
  {
   "cell_type": "code",
   "execution_count": 59,
   "metadata": {},
   "outputs": [],
   "source": [
    "Final_data=np.array(Final_data) \n",
    "Final_data = Final_data.astype(float)\n"
   ]
  },
  {
   "cell_type": "markdown",
   "metadata": {},
   "source": [
    "I am going to use 4 different classifiers to see how the predicitions. They are logistics regression, SVM, KNN and DNN."
   ]
  },
  {
   "cell_type": "code",
   "execution_count": 269,
   "metadata": {},
   "outputs": [],
   "source": [
    "# Logistics regression"
   ]
  },
  {
   "cell_type": "code",
   "execution_count": 60,
   "metadata": {},
   "outputs": [],
   "source": [
    "from sklearn.linear_model import LogisticRegression\n",
    "from sklearn import metrics\n",
    "from sklearn.model_selection import train_test_split\n",
    "from sklearn.metrics import confusion_matrix\n",
    "from sklearn.metrics import classification_report\n",
    "\n",
    "# Split the data set into 80% for training and 20% for testing\n",
    "X_train_LR, X_test_LR, y_train_LR, y_test_LR = train_test_split(Final_data[:,0:6], Final_data[:,6], test_size=0.2, random_state=0)"
   ]
  },
  {
   "cell_type": "code",
   "execution_count": 331,
   "metadata": {},
   "outputs": [
    {
     "name": "stdout",
     "output_type": "stream",
     "text": [
      "Accuracy of logistic regression classifier on test set: 0.7273\n"
     ]
    }
   ],
   "source": [
    "logreg = LogisticRegression(penalty='l2', C=1) # we use l2 norm\n",
    "logreg.fit(X_train_LR, y_train_LR)\n",
    "y_pred_LR = logreg.predict(X_test_LR)\n",
    "print('Accuracy of logistic regression classifier on test set: {:.4f}'.format(logreg.score(X_test_LR, y_test_LR)))"
   ]
  },
  {
   "cell_type": "code",
   "execution_count": 332,
   "metadata": {},
   "outputs": [
    {
     "name": "stdout",
     "output_type": "stream",
     "text": [
      "<function confusion_matrix at 0x000002401CE127B8>\n",
      "             precision    recall  f1-score   support\n",
      "\n",
      "        0.0       0.68      0.95      0.79      1105\n",
      "        1.0       0.88      0.46      0.60       912\n",
      "\n",
      "avg / total       0.77      0.73      0.71      2017\n",
      "\n"
     ]
    }
   ],
   "source": [
    "print(confusion_matrix)\n",
    "print(classification_report(y_test_LR, y_pred_LR))"
   ]
  },
  {
   "cell_type": "code",
   "execution_count": 272,
   "metadata": {},
   "outputs": [
    {
     "data": {
      "image/png": "[encoded data removed]",
      "text/plain": [
       "<Figure size 432x288 with 1 Axes>"
      ]
     },
     "metadata": {},
     "output_type": "display_data"
    }
   ],
   "source": [
    "from sklearn.metrics import roc_auc_score\n",
    "from sklearn.metrics import roc_curve\n",
    "logit_roc_auc = roc_auc_score(y_test, logreg.predict(X_test_LR))\n",
    "fpr, tpr, thresholds = roc_curve(y_test, logreg.predict_proba(X_test_LR)[:,1])\n",
    "plt.figure()\n",
    "plt.plot(fpr, tpr, label='Logistic Regression (area = %0.2f)' % logit_roc_auc)\n",
    "plt.plot([0, 1], [0, 1],'r--')\n",
    "plt.xlim([0.0, 1.0])\n",
    "plt.ylim([0.0, 1.05])\n",
    "plt.xlabel('False Positive Rate')\n",
    "plt.ylabel('True Positive Rate')\n",
    "plt.title('Receiver operating characteristic')\n",
    "plt.legend(loc=\"lower right\")\n",
    "plt.savefig('Log_ROC')\n",
    "plt.show()"
   ]
  },
  {
   "cell_type": "code",
   "execution_count": 200,
   "metadata": {},
   "outputs": [],
   "source": [
    "#Support Vector Machine"
   ]
  },
  {
   "cell_type": "code",
   "execution_count": 201,
   "metadata": {},
   "outputs": [],
   "source": [
    "from sklearn import svm\n",
    "from sklearn.svm import SVC\n",
    "\n",
    "X_train, X_test, y_train, y_test = train_test_split(Final_data[:,0:6], Final_data[:,6], test_size=0.2, random_state=0)"
   ]
  },
  {
   "cell_type": "code",
   "execution_count": 204,
   "metadata": {},
   "outputs": [
    {
     "name": "stdout",
     "output_type": "stream",
     "text": [
      "Accuracy of SVM with rbf kernel on test set: 0.7238\n"
     ]
    }
   ],
   "source": [
    "svmclf = svm.SVC(C=1, kernel='rbf', gamma=0.1) #using rbf kernnel since linear kernel make algorithm freeze\n",
    "svmclf.fit(X_train, y_train)\n",
    "y_pred = svmclf.predict(X_test)\n",
    "print('Accuracy of SVM with rbf kernel on test set: {:.4f}'.format(svmclf.score(X_test, y_test)))"
   ]
  },
  {
   "cell_type": "code",
   "execution_count": 205,
   "metadata": {},
   "outputs": [
    {
     "name": "stdout",
     "output_type": "stream",
     "text": [
      "             precision    recall  f1-score   support\n",
      "\n",
      "        0.0       0.69      0.90      0.78      1105\n",
      "        1.0       0.80      0.52      0.63       912\n",
      "\n",
      "avg / total       0.74      0.72      0.71      2017\n",
      "\n"
     ]
    }
   ],
   "source": [
    "print(classification_report(y_test, y_pred))"
   ]
  },
  {
   "cell_type": "code",
   "execution_count": 206,
   "metadata": {},
   "outputs": [],
   "source": [
    "# K-Nearest Neigbors"
   ]
  },
  {
   "cell_type": "code",
   "execution_count": 239,
   "metadata": {},
   "outputs": [
    {
     "name": "stdout",
     "output_type": "stream",
     "text": [
      "Accuracy of knn on test set: 0.7238\n",
      "             precision    recall  f1-score   support\n",
      "\n",
      "        0.0       0.69      0.90      0.78      1105\n",
      "        1.0       0.80      0.52      0.63       912\n",
      "\n",
      "avg / total       0.74      0.73      0.71      2017\n",
      "\n"
     ]
    }
   ],
   "source": [
    "from sklearn.neighbors import KNeighborsClassifier  \n",
    "\n",
    "X_train, X_test, y_train, y_test = train_test_split(Final_data[:,0:6], Final_data[:,6], test_size=0.2, random_state=0)\n",
    "\n",
    "knn = KNeighborsClassifier(n_neighbors=2)  \n",
    "knn.fit(X_train, y_train)  \n",
    "\n",
    "y_pred = knn.predict(X_test)\n",
    "print('Accuracy of knn on test set: {:.4f}'.format(svmclf.score(X_test, y_test)))\n",
    "print(classification_report(y_test, y_pred))"
   ]
  },
  {
   "cell_type": "code",
   "execution_count": null,
   "metadata": {},
   "outputs": [],
   "source": []
  },
  {
   "cell_type": "code",
   "execution_count": 208,
   "metadata": {},
   "outputs": [],
   "source": [
    "#Deep Neural Network"
   ]
  },
  {
   "cell_type": "code",
   "execution_count": 240,
   "metadata": {},
   "outputs": [],
   "source": [
    "import tensorflow as tf\n",
    "from tensorflow import keras"
   ]
  },
  {
   "cell_type": "code",
   "execution_count": 241,
   "metadata": {},
   "outputs": [],
   "source": [
    "X_train, X_test, y_train, y_test = train_test_split(Final_data[:,0:6], Final_data[:,6], test_size=0.2, random_state=0)\n"
   ]
  },
  {
   "cell_type": "code",
   "execution_count": 242,
   "metadata": {},
   "outputs": [],
   "source": [
    "# set the structure of DNN"
   ]
  },
  {
   "cell_type": "code",
   "execution_count": 243,
   "metadata": {},
   "outputs": [],
   "source": [
    "model = keras.Sequential([\n",
    "    keras.layers.Dense(512, activation=tf.nn.relu),\n",
    "    keras.layers.Dense(512, activation=tf.nn.relu),\n",
    "    keras.layers.Dense(256, activation=tf.nn.relu),\n",
    "    keras.layers.Dense(256, activation=tf.nn.relu),\n",
    "    keras.layers.Dense(128, activation=tf.nn.relu),\n",
    "\n",
    "    keras.layers.Dense(2, activation=tf.nn.softmax)\n",
    "])"
   ]
  },
  {
   "cell_type": "code",
   "execution_count": 244,
   "metadata": {},
   "outputs": [],
   "source": [
    "model.compile(optimizer='Adam',          # Tuned with other parameter as well, so far this one gives the best.\n",
    "              loss='mse',\n",
    "              metrics=['accuracy'])"
   ]
  },
  {
   "cell_type": "code",
   "execution_count": 245,
   "metadata": {},
   "outputs": [
    {
     "name": "stdout",
     "output_type": "stream",
     "text": [
      "Epoch 1/10\n",
      "8066/8066 [==============================] - 3s 337us/step - loss: 0.3035 - acc: 0.5260\n",
      "Epoch 2/10\n",
      "8066/8066 [==============================] - 2s 224us/step - loss: 0.3009 - acc: 0.4344\n",
      "Epoch 3/10\n",
      "8066/8066 [==============================] - 2s 223us/step - loss: 0.3034 - acc: 0.4921\n",
      "Epoch 4/10\n",
      "8066/8066 [==============================] - 2s 213us/step - loss: 0.3016 - acc: 0.4638\n",
      "Epoch 5/10\n",
      "8066/8066 [==============================] - 2s 216us/step - loss: 0.2999 - acc: 0.4231\n",
      "Epoch 6/10\n",
      "8066/8066 [==============================] - 2s 221us/step - loss: 0.2998 - acc: 0.4314\n",
      "Epoch 7/10\n",
      "8066/8066 [==============================] - 2s 225us/step - loss: 0.2997 - acc: 0.4120 \n",
      "Epoch 8/10\n",
      "8066/8066 [==============================] - 2s 215us/step - loss: 0.2993 - acc: 0.4269\n",
      "Epoch 9/10\n",
      "8066/8066 [==============================] - 2s 216us/step - loss: 0.2992 - acc: 0.4200\n",
      "Epoch 10/10\n",
      "8066/8066 [==============================] - 2s 211us/step - loss: 0.2991 - acc: 0.4032\n"
     ]
    },
    {
     "data": {
      "text/plain": [
       "<tensorflow.python.keras.callbacks.History at 0x240471ddf60>"
      ]
     },
     "execution_count": 245,
     "metadata": {},
     "output_type": "execute_result"
    }
   ],
   "source": [
    "model.fit(X_train, y_train, epochs=10)"
   ]
  },
  {
   "cell_type": "code",
   "execution_count": 246,
   "metadata": {},
   "outputs": [
    {
     "name": "stdout",
     "output_type": "stream",
     "text": [
      "2017/2017 [==============================] - 1s 255us/step\n",
      "Test accuracy: 0.7486365889935548\n"
     ]
    }
   ],
   "source": [
    "test_loss, test_acc = model.evaluate(X_test, y_test)\n",
    "print('Test accuracy:', test_acc)"
   ]
  },
  {
   "cell_type": "code",
   "execution_count": 262,
   "metadata": {},
   "outputs": [
    {
     "name": "stderr",
     "output_type": "stream",
     "text": [
      "No handles with labels found to put in legend.\n"
     ]
    },
    {
     "data": {
      "image/png": "[encoded data removed]",
      "text/plain": [
       "<Figure size 576x576 with 1 Axes>"
      ]
     },
     "metadata": {},
     "output_type": "display_data"
    }
   ],
   "source": [
    "Features = ['Logistic Regression', 'SVM','KNN','DNN']\n",
    "\n",
    "acc = np.array([0.7273, 0.7238, 0.7238,test_acc])\n",
    "ind = [x for x, _ in enumerate(Features)]\n",
    "plt.figure(1,figsize=(8,8))\n",
    "plt.bar(ind, acc, width=0.6)\n",
    "\n",
    "plt.xticks(ind, Features)\n",
    "plt.ylabel(\"Model Accuracy\")\n",
    "plt.xlabel(\"Algorithm\")\n",
    "plt.yticks(np.arange(0, 1.05, 0.05))\n",
    "plt.ylim(0.6, 0.8) \n",
    "plt.legend(loc=\"upper right\")\n",
    "plt.title('Model Accuracy over Different Learning Algorithm' )\n",
    "\n",
    "plt.show()       \n",
    "    "
   ]
  },
  {
   "cell_type": "markdown",
   "metadata": {},
   "source": [
    "As we can see above, the DNN has highest accuracy up to almost 75%, at cost of 5 hiddlen layers and huge computational burdern. The Logistic regression ranked at the second. SVM and KNN are equally third. I think they result make sense, DNN shows it superiority to understand the feature much more deeper after I tunned into right parameter. Because of binary classfication, logistic regression is aimed to solve this problem. \n",
    "\n",
    "However, the SVM algorithm got stuck in the first place then I set kernel to be linear, which means linear assumption betweem features and labels are not solid, so linear kernel can't find hyperplane to seperate. After I chose to use rbf kernel and transform the feature into higher dimension, it works at accuracy around 73%\n",
    "\n",
    "KNN is a lazy learning algorithm, it works very fast for binary classification but somehere it is slightly less accurate than other algorithm.\n",
    "\n",
    "In all, after clearning the data and transforming into the numerical, we get at least 73% accuracy, which indicates our algorithms do work and DNN is the best."
   ]
  },
  {
   "cell_type": "markdown",
   "metadata": {},
   "source": [
    "More importantly, to see how valid the model is, we need to use k fold cross validation. Since it is problem of binary classfication adn we do not know the exact relation between features and labels, so I choose logistic regression among 4 learning algorithm to do k fold cross validation."
   ]
  },
  {
   "cell_type": "code",
   "execution_count": null,
   "metadata": {},
   "outputs": [],
   "source": [
    "# K-fold cross validation on logistic regression "
   ]
  },
  {
   "cell_type": "code",
   "execution_count": 77,
   "metadata": {},
   "outputs": [
    {
     "name": "stdout",
     "output_type": "stream",
     "text": [
      "The 10-fold cross validation score of logistic regression model is 0.7234\n"
     ]
    }
   ],
   "source": [
    "from sklearn.model_selection import cross_val_score\n",
    "\n",
    "logreg = LogisticRegression(penalty='l2', C=1) # we use l2 norm\n",
    "\n",
    "#I choose K=10\n",
    "scores = cross_val_score(logreg, X_train_LR, y_train_LR, cv=10) \n",
    "\n",
    "avg=sum(scores)/len(scores)                                            \n",
    "\n",
    "print(\"The 10-fold cross validation score of logistic regression model is %.4f\" %avg)"
   ]
  },
  {
   "cell_type": "code",
   "execution_count": null,
   "metadata": {},
   "outputs": [],
   "source": []
  },
  {
   "cell_type": "code",
   "execution_count": null,
   "metadata": {},
   "outputs": [],
   "source": []
  },
  {
   "cell_type": "markdown",
   "metadata": {},
   "source": [
    "# Part C"
   ]
  },
  {
   "cell_type": "code",
   "execution_count": null,
   "metadata": {},
   "outputs": [],
   "source": [
    "#Analysis of one testing result from logistic regression"
   ]
  },
  {
   "cell_type": "code",
   "execution_count": 363,
   "metadata": {},
   "outputs": [
    {
     "data": {
      "image/png": "[encoded data removed]",
      "text/plain": [
       "<Figure size 576x576 with 1 Axes>"
      ]
     },
     "metadata": {},
     "output_type": "display_data"
    }
   ],
   "source": [
    "# Location analysis\n",
    "\n",
    "counter0=0\n",
    "\n",
    "counter1=0\n",
    "\n",
    "counter2=0\n",
    "\n",
    "counter3=0\n",
    "\n",
    "\n",
    "for i in range(0,len(y_pred_LR)):\n",
    "    \n",
    "    if y_pred_LR[i]==0:\n",
    "        \n",
    "        counter0+=1\n",
    "        \n",
    "        if X_test_LR[i,0]==1:\n",
    "            \n",
    "            counter1+=1\n",
    "            \n",
    "        if X_test_LR[i,0]==2:\n",
    "            \n",
    "            counter2+=1\n",
    "        \n",
    "        if X_test_LR[i,0]==3:\n",
    "            \n",
    "            counter3+=1\n",
    "            \n",
    "            \n",
    "per1= counter1/counter0          \n",
    "\n",
    "per2= counter2/counter0  \n",
    "\n",
    "per3= counter3/counter0  \n",
    "\n",
    "\n",
    "            \n",
    "counter0_true=0\n",
    "\n",
    "counter1_true=0\n",
    "\n",
    "counter2_true=0\n",
    "\n",
    "counter3_true=0\n",
    "\n",
    "\n",
    "for i in range(0,len(y_test_LR)):\n",
    "    \n",
    "    if y_test_LR[i]==0:\n",
    "        \n",
    "        counter0_true+=1\n",
    "        \n",
    "        if X_test_LR[i,0]==1:\n",
    "            \n",
    "            counter1_true+=1\n",
    "            \n",
    "        if X_test_LR[i,0]==2:\n",
    "            \n",
    "            counter2_true+=1\n",
    "        \n",
    "        if X_test_LR[i,0]==3:\n",
    "            \n",
    "            counter3_true+=1\n",
    "            \n",
    "            \n",
    "per1_true= counter1_true/counter0_true          \n",
    "\n",
    "per2_true= counter2_true/counter0_true  \n",
    "\n",
    "per3_true= counter3_true/counter0_true   \n",
    "\n",
    "\n",
    "\n",
    "            \n",
    "            \n",
    "\n",
    "\n",
    "acc = np.array([per1, per2, per3])\n",
    "acc_true = np.array([per1_true, per2_true, per3_true])\n",
    "ind = np.array([1,2,3])\n",
    "plt.figure(1,figsize=(8,8))\n",
    "drift=0.2\n",
    "plt.bar(ind-drift, acc, width=2*drift)\n",
    "plt.bar(ind+drift, acc_true, width=2*drift)\n",
    "\n",
    "plt.xticks(ind, city_list)\n",
    "plt.ylabel(\"Counts\")\n",
    "plt.xlabel(\"City\")\n",
    "plt.yticks(np.arange(0, 1.05, 0.05))\n",
    "plt.ylim(0, 0.7) \n",
    "plt.title('Percentage of Counts of Driver with First Trip in 30 days over City' )\n",
    "\n",
    "plt.legend(['Prediction', 'Reality'],loc=\"upper right\")\n",
    "plt.show()               \n",
    "        \n",
    "        "
   ]
  },
  {
   "cell_type": "code",
   "execution_count": 370,
   "metadata": {},
   "outputs": [
    {
     "data": {
      "image/png": "[encoded data removed]",
      "text/plain": [
       "<Figure size 576x576 with 1 Axes>"
      ]
     },
     "metadata": {},
     "output_type": "display_data"
    }
   ],
   "source": [
    "# Signup-channel analysis\n",
    "\n",
    " \n",
    "counter0,counter1,counter2,counter3,counter4,counter5=0,0,0,0,0,0\n",
    "\n",
    "for i in range(0,len(y_pred_LR)):\n",
    "    \n",
    "    if y_pred_LR[i]==0:\n",
    "        \n",
    "        counter0+=1\n",
    "        \n",
    "        if X_test_LR[i,1]==1:\n",
    "            \n",
    "            counter1+=1\n",
    "            \n",
    "        if X_test_LR[i,1]==2:\n",
    "            \n",
    "            counter2+=1\n",
    "        \n",
    "        if X_test_LR[i,1]==3:\n",
    "            \n",
    "            counter3+=1\n",
    "        \n",
    "        if X_test_LR[i,1]==4:\n",
    "            \n",
    "            counter4+=1\n",
    "            \n",
    "        if X_test_LR[i,1]==5:\n",
    "            \n",
    "            counter5+=1\n",
    "            \n",
    "per1= counter1/counter0          \n",
    "\n",
    "per2= counter2/counter0  \n",
    "\n",
    "per3= counter3/counter0  \n",
    "\n",
    "per4= counter4/counter0  \n",
    "\n",
    "per5= counter5/counter0  \n",
    "\n",
    "\n",
    "counter0,counter1,counter2,counter3,counter4,counter5=0,0,0,0,0,0\n",
    "\n",
    "\n",
    "for i in range(0,len(y_test_LR)):\n",
    "    \n",
    "    if y_test_LR[i]==0:\n",
    "        \n",
    "        counter0+=1\n",
    "        \n",
    "        if X_test_LR[i,1]==1:\n",
    "            \n",
    "            counter1+=1\n",
    "            \n",
    "        if X_test_LR[i,1]==2:\n",
    "            \n",
    "            counter2+=1\n",
    "        \n",
    "        if X_test_LR[i,1]==3:\n",
    "            \n",
    "            counter3+=1\n",
    "         \n",
    "        if X_test_LR[i,1]==4:\n",
    "            \n",
    "            counter4+=1\n",
    "            \n",
    "        if X_test_LR[i,1]==5:\n",
    "            \n",
    "            counter5+=1\n",
    "            \n",
    "per1_true= counter1/counter0          \n",
    "\n",
    "per2_true= counter2/counter0  \n",
    "\n",
    "per3_true= counter3/counter0  \n",
    "\n",
    "per4_true= counter4/counter0  \n",
    "\n",
    "per5_true= counter5/counter0  \n",
    "            \n",
    "acc = np.array([per1, per2, per3, per4, per5])\n",
    "acc_true = np.array([per1_true, per2_true, per3_true, per4_true, per5_true])\n",
    "ind = np.array([1,2,3,4,5])\n",
    "plt.figure(1,figsize=(8,8))\n",
    "drift=0.2\n",
    "plt.bar(ind-drift, acc, width=2*drift)\n",
    "plt.bar(ind+drift, acc_true, width=2*drift)\n",
    "\n",
    "plt.xticks(ind, signup_channel_list)\n",
    "plt.ylabel(\"Counts\")\n",
    "plt.xlabel(\"Signup Channel\")\n",
    "plt.yticks(np.arange(0, 1.05, 0.05))\n",
    "plt.ylim(0, 0.7) \n",
    "plt.title('Percentage of Counts of Driver with First Trip in 30 days over Signup Channel' )\n",
    "\n",
    "plt.legend(['Prediction', 'Reality'],loc=\"upper right\")\n",
    "plt.show()               \n",
    "        \n",
    "\n",
    "\n",
    "\n",
    "\n"
   ]
  },
  {
   "cell_type": "code",
   "execution_count": 384,
   "metadata": {},
   "outputs": [
    {
     "data": {
      "image/png": "[encoded data removed]",
      "text/plain": [
       "<Figure size 576x576 with 1 Axes>"
      ]
     },
     "metadata": {},
     "output_type": "display_data"
    }
   ],
   "source": [
    "# Bgc-channel analysis\n",
    "\n",
    "counter0,counter1,counter2,counter3,counter4,counter5=0,0,0,0,0,0\n",
    "\n",
    "for i in range(0,len(y_pred_LR)):\n",
    "    \n",
    "    if y_pred_LR[i]==0:\n",
    "        \n",
    "        counter0+=1\n",
    "        \n",
    "        if X_test_LR[i,2]<=0.01666:\n",
    "            \n",
    "            counter1+=1\n",
    "            \n",
    "        if X_test_LR[i,2]<=0.16666:\n",
    "            \n",
    "            counter2+=1\n",
    "        \n",
    "        if X_test_LR[i,2]<=1:\n",
    "            \n",
    "            counter3+=1\n",
    "        \n",
    "        if X_test_LR[i,2]<=10:\n",
    "            \n",
    "            counter4+=1\n",
    "            \n",
    "        if X_test_LR[i,1]<=720:\n",
    "            \n",
    "            counter5+=1\n",
    "            \n",
    "per1= counter1/counter0          \n",
    "\n",
    "per2= counter2/counter0  \n",
    "\n",
    "per3= counter3/counter0  \n",
    "\n",
    "per4= counter4/counter0  \n",
    "\n",
    "per5= counter5/counter0  \n",
    "\n",
    "\n",
    "counter0,counter1,counter2,counter3,counter4,counter5=0,0,0,0,0,0\n",
    "\n",
    "\n",
    "for i in range(0,len(y_test_LR)):\n",
    "    \n",
    "    if y_test_LR[i]==0:\n",
    "        \n",
    "        counter0+=1\n",
    "        \n",
    "        if X_test_LR[i,2]<=0.01666:\n",
    "            \n",
    "            counter1+=1\n",
    "            \n",
    "        if X_test_LR[i,2]<=0.16666:\n",
    "            \n",
    "            counter2+=1\n",
    "        \n",
    "        if X_test_LR[i,2]<=1:\n",
    "            \n",
    "            counter3+=1\n",
    "         \n",
    "        if X_test_LR[i,2]<=10:\n",
    "            \n",
    "            counter4+=1\n",
    "            \n",
    "        if X_test_LR[i,2]<=720:\n",
    "            \n",
    "            counter5+=1\n",
    "            \n",
    "per1_true= counter1/counter0          \n",
    "\n",
    "per2_true= counter2/counter0  \n",
    "\n",
    "per3_true= counter3/counter0  \n",
    "\n",
    "per4_true= counter4/counter0  \n",
    "\n",
    "per5_true= counter5/counter0  \n",
    "\n",
    "bgc_time_interval=['1 minute','10 minutes','1 day','10 days', '30days']\n",
    "\n",
    "acc = np.array([per1, per2, per3, per4, per5])\n",
    "acc_true = np.array([per1_true, per2_true, per3_true, per4_true, per5_true])\n",
    "ind = np.array([1,2,3,4,5])\n",
    "plt.figure(1,figsize=(8,8))\n",
    "drift=0.2\n",
    "plt.bar(ind-drift, acc, width=2*drift)\n",
    "plt.bar(ind+drift, acc_true, width=2*drift)\n",
    "\n",
    "plt.xticks(ind, bgc_time_interval)\n",
    "plt.ylabel(\"Counts\")\n",
    "plt.xlabel(\"BGC-Signup interval\")\n",
    "plt.yticks(np.arange(0, 1.2, 0.05))\n",
    "#plt.ylim(0, 1) \n",
    "plt.title('Percentage of Counts of Driver with First Trip in 30 days of BGC-Signup interval' )\n",
    "\n",
    "plt.legend(['Prediction', 'Reality'],loc=\"upper right\")\n",
    "plt.show()               \n",
    "        "
   ]
  },
  {
   "cell_type": "code",
   "execution_count": null,
   "metadata": {},
   "outputs": [],
   "source": [
    "# Some idea"
   ]
  },
  {
   "cell_type": "markdown",
   "metadata": {},
   "source": [
    "According to previous analysis, new signup drivers in Strark are prone to start their trip in first 30 days. The driver from referral starts their first trip much earlier and nearly 75% of drivers who finished background check in 10 days will start their first trip in 30 days.\n",
    "\n",
    "Based on those 3 features so far, Uber company can do more advertisement in Strark city to hire more drivers. Also, referral system should be encouraged by giving some bonus for both referral and referee. More importantly, considering the background check time interval, we should simlify the background system, because the a lot of 'NA's in the bgc_timestamp features indicates 'NA' in first trip finished time. It means some people are not willing to do background check, so it could make more drivers start their first trip if we make background system much more friendly and accessible."
   ]
  },
  {
   "cell_type": "code",
   "execution_count": null,
   "metadata": {},
   "outputs": [],
   "source": []
  }
 ],
 "metadata": {
  "kernelspec": {
   "display_name": "Python [conda env:python35]",
   "language": "python",
   "name": "conda-env-python35-py"
  },
  "language_info": {
   "codemirror_mode": {
    "name": "ipython",
    "version": 3
   },
   "file_extension": ".py",
   "mimetype": "text/x-python",
   "name": "python",
   "nbconvert_exporter": "python",
   "pygments_lexer": "ipython3",
   "version": "3.5.5"
  }
 },
 "nbformat": 4,
 "nbformat_minor": 2
}
